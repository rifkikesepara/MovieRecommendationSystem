{
 "cells": [
  {
   "cell_type": "code",
   "execution_count": 1,
   "id": "5126690a",
   "metadata": {},
   "outputs": [],
   "source": [
    "import pandas as pd\n",
    "import numpy as np\n",
    "from sklearn.feature_extraction.text import TfidfVectorizer\n",
    "from sklearn.metrics.pairwise import linear_kernel\n",
    "from sklearn.feature_extraction.text import CountVectorizer\n",
    "from sklearn.metrics.pairwise import cosine_similarity"
   ]
  },
  {
   "cell_type": "code",
   "execution_count": 2,
   "id": "abe0df9c",
   "metadata": {},
   "outputs": [],
   "source": [
    "df_credits=pd.read_csv('tmdb/tmdb_5000_credits.csv')\n",
    "df_movies=pd.read_csv('tmdb/tmdb_5000_movies.csv')\n"
   ]
  },
  {
   "cell_type": "code",
   "execution_count": 3,
   "id": "420d47f6",
   "metadata": {},
   "outputs": [],
   "source": [
    "df_movies=df_movies.drop(columns = ['homepage','budget','production_companies','production_countries','revenue','runtime','status','tagline','original_language','original_title'], axis = 1)\n",
    "df_credits.columns=['id','title','cast','crew']\n",
    "df_credits=df_credits.drop(columns=['title'])\n"
   ]
  },
  {
   "cell_type": "code",
   "execution_count": 4,
   "id": "b3f8eff7",
   "metadata": {
    "scrolled": false
   },
   "outputs": [
    {
     "data": {
      "text/html": [
       "<div>\n",
       "<style scoped>\n",
       "    .dataframe tbody tr th:only-of-type {\n",
       "        vertical-align: middle;\n",
       "    }\n",
       "\n",
       "    .dataframe tbody tr th {\n",
       "        vertical-align: top;\n",
       "    }\n",
       "\n",
       "    .dataframe thead th {\n",
       "        text-align: right;\n",
       "    }\n",
       "</style>\n",
       "<table border=\"1\" class=\"dataframe\">\n",
       "  <thead>\n",
       "    <tr style=\"text-align: right;\">\n",
       "      <th></th>\n",
       "      <th>genres</th>\n",
       "      <th>id</th>\n",
       "      <th>keywords</th>\n",
       "      <th>overview</th>\n",
       "      <th>popularity</th>\n",
       "      <th>release_date</th>\n",
       "      <th>spoken_languages</th>\n",
       "      <th>title</th>\n",
       "      <th>vote_average</th>\n",
       "      <th>vote_count</th>\n",
       "      <th>cast</th>\n",
       "      <th>crew</th>\n",
       "    </tr>\n",
       "  </thead>\n",
       "  <tbody>\n",
       "    <tr>\n",
       "      <th>0</th>\n",
       "      <td>[{\"id\": 28, \"name\": \"Action\"}, {\"id\": 12, \"nam...</td>\n",
       "      <td>19995</td>\n",
       "      <td>[{\"id\": 1463, \"name\": \"culture clash\"}, {\"id\":...</td>\n",
       "      <td>In the 22nd century, a paraplegic Marine is di...</td>\n",
       "      <td>150.437577</td>\n",
       "      <td>2009-12-10</td>\n",
       "      <td>[{\"iso_639_1\": \"en\", \"name\": \"English\"}, {\"iso...</td>\n",
       "      <td>Avatar</td>\n",
       "      <td>7.2</td>\n",
       "      <td>11800</td>\n",
       "      <td>[{\"cast_id\": 242, \"character\": \"Jake Sully\", \"...</td>\n",
       "      <td>[{\"credit_id\": \"52fe48009251416c750aca23\", \"de...</td>\n",
       "    </tr>\n",
       "  </tbody>\n",
       "</table>\n",
       "</div>"
      ],
      "text/plain": [
       "                                              genres     id  \\\n",
       "0  [{\"id\": 28, \"name\": \"Action\"}, {\"id\": 12, \"nam...  19995   \n",
       "\n",
       "                                            keywords  \\\n",
       "0  [{\"id\": 1463, \"name\": \"culture clash\"}, {\"id\":...   \n",
       "\n",
       "                                            overview  popularity release_date  \\\n",
       "0  In the 22nd century, a paraplegic Marine is di...  150.437577   2009-12-10   \n",
       "\n",
       "                                    spoken_languages   title  vote_average  \\\n",
       "0  [{\"iso_639_1\": \"en\", \"name\": \"English\"}, {\"iso...  Avatar           7.2   \n",
       "\n",
       "   vote_count                                               cast  \\\n",
       "0       11800  [{\"cast_id\": 242, \"character\": \"Jake Sully\", \"...   \n",
       "\n",
       "                                                crew  \n",
       "0  [{\"credit_id\": \"52fe48009251416c750aca23\", \"de...  "
      ]
     },
     "execution_count": 4,
     "metadata": {},
     "output_type": "execute_result"
    }
   ],
   "source": [
    "df_movies=df_movies.merge(df_credits,on='id')\n",
    "df_movies.head(1)"
   ]
  },
  {
   "cell_type": "markdown",
   "id": "09cafd6f",
   "metadata": {},
   "source": [
    "## Add imdb rating column "
   ]
  },
  {
   "cell_type": "code",
   "execution_count": 5,
   "id": "eca23068",
   "metadata": {},
   "outputs": [
    {
     "name": "stdout",
     "output_type": "stream",
     "text": [
      "6.092171559442011 235.0\n"
     ]
    }
   ],
   "source": [
    "# clac mean value\n",
    "c=df_movies['vote_average'].mean()\n",
    "# the minimum votes to display\n",
    "m=df_movies['vote_count'].quantile(0.5)\n",
    "print(c,m)"
   ]
  },
  {
   "cell_type": "code",
   "execution_count": 6,
   "id": "95a7eebf",
   "metadata": {},
   "outputs": [
    {
     "data": {
      "text/plain": [
       "(2407, 12)"
      ]
     },
     "execution_count": 6,
     "metadata": {},
     "output_type": "execute_result"
    }
   ],
   "source": [
    "movies_list=df_movies.copy().loc[df_movies['vote_count']>=m]\n",
    "movies_list.shape\n"
   ]
  },
  {
   "cell_type": "code",
   "execution_count": 8,
   "id": "0c5457da",
   "metadata": {},
   "outputs": [],
   "source": [
    "def weighted_rating(x,m=m,c=c):\n",
    "    v=x['vote_count']\n",
    "    r=x['vote_average']\n",
    "    return (v/(v+m)*r)+(m/(m+v)*c)"
   ]
  },
  {
   "cell_type": "code",
   "execution_count": 9,
   "id": "2e2e2603",
   "metadata": {},
   "outputs": [
    {
     "name": "stdout",
     "output_type": "stream",
     "text": [
      "<class 'pandas.core.frame.DataFrame'>\n",
      "Int64Index: 2407 entries, 1881 to 1652\n",
      "Data columns (total 13 columns):\n",
      " #   Column            Non-Null Count  Dtype  \n",
      "---  ------            --------------  -----  \n",
      " 0   genres            2407 non-null   object \n",
      " 1   id                2407 non-null   int64  \n",
      " 2   keywords          2407 non-null   object \n",
      " 3   overview          2407 non-null   object \n",
      " 4   popularity        2407 non-null   float64\n",
      " 5   release_date      2407 non-null   object \n",
      " 6   spoken_languages  2407 non-null   object \n",
      " 7   title             2407 non-null   object \n",
      " 8   vote_average      2407 non-null   float64\n",
      " 9   vote_count        2407 non-null   int64  \n",
      " 10  cast              2407 non-null   object \n",
      " 11  crew              2407 non-null   object \n",
      " 12  score             2407 non-null   float64\n",
      "dtypes: float64(3), int64(2), object(8)\n",
      "memory usage: 263.3+ KB\n"
     ]
    }
   ],
   "source": [
    "movies_list['score']=movies_list.apply(weighted_rating,axis=1)\n",
    "movies_list=movies_list.sort_values('score',ascending=False)\n",
    "movies_list.info()"
   ]
  },
  {
   "cell_type": "markdown",
   "id": "2a5d3083",
   "metadata": {},
   "source": [
    "## Adjust columns format"
   ]
  },
  {
   "cell_type": "code",
   "execution_count": 10,
   "id": "6e42c572",
   "metadata": {},
   "outputs": [],
   "source": [
    "from ast import literal_eval\n",
    "features=['genres','keywords','spoken_languages','cast','crew']\n",
    "for feature in features:\n",
    "    movies_list[feature]=movies_list[feature].apply(literal_eval)"
   ]
  },
  {
   "cell_type": "code",
   "execution_count": 14,
   "id": "0948ba13",
   "metadata": {},
   "outputs": [],
   "source": [
    "def get_director(x):\n",
    "    for i in x:\n",
    "        if i['job']=='Director':\n",
    "            return i['name']\n",
    "        return ''\n",
    "def get_list(x):\n",
    "    if isinstance(x,list):\n",
    "        names=[i['name']for i in x]\n",
    "        return names\n",
    "    return []"
   ]
  },
  {
   "cell_type": "code",
   "execution_count": 15,
   "id": "4b05b9f1",
   "metadata": {},
   "outputs": [],
   "source": [
    "movies_list['director']=movies_list['crew'].apply(get_director)\n",
    "features=['genres','keywords','spoken_languages','cast']\n",
    "for feature in features:\n",
    "    movies_list[feature]=movies_list[feature].apply(get_list)\n"
   ]
  },
  {
   "cell_type": "code",
   "execution_count": 19,
   "id": "abeae62a",
   "metadata": {},
   "outputs": [
    {
     "data": {
      "text/html": [
       "<div>\n",
       "<style scoped>\n",
       "    .dataframe tbody tr th:only-of-type {\n",
       "        vertical-align: middle;\n",
       "    }\n",
       "\n",
       "    .dataframe tbody tr th {\n",
       "        vertical-align: top;\n",
       "    }\n",
       "\n",
       "    .dataframe thead th {\n",
       "        text-align: right;\n",
       "    }\n",
       "</style>\n",
       "<table border=\"1\" class=\"dataframe\">\n",
       "  <thead>\n",
       "    <tr style=\"text-align: right;\">\n",
       "      <th></th>\n",
       "      <th>genres</th>\n",
       "      <th>id</th>\n",
       "      <th>keywords</th>\n",
       "      <th>release_date</th>\n",
       "      <th>spoken_languages</th>\n",
       "      <th>title</th>\n",
       "      <th>cast</th>\n",
       "      <th>score</th>\n",
       "      <th>director</th>\n",
       "    </tr>\n",
       "  </thead>\n",
       "  <tbody>\n",
       "    <tr>\n",
       "      <th>1881</th>\n",
       "      <td>[Drama, Crime]</td>\n",
       "      <td>278</td>\n",
       "      <td>[prison, corruption, police brutality, prison ...</td>\n",
       "      <td>1994-09-23</td>\n",
       "      <td>[English]</td>\n",
       "      <td>The Shawshank Redemption</td>\n",
       "      <td>[Tim Robbins, Morgan Freeman, Bob Gunton, Clan...</td>\n",
       "      <td>8.432957</td>\n",
       "      <td></td>\n",
       "    </tr>\n",
       "    <tr>\n",
       "      <th>3337</th>\n",
       "      <td>[Drama, Crime]</td>\n",
       "      <td>238</td>\n",
       "      <td>[italy, love at first sight, loss of father, p...</td>\n",
       "      <td>1972-03-14</td>\n",
       "      <td>[English, Italiano, Latin]</td>\n",
       "      <td>The Godfather</td>\n",
       "      <td>[Marlon Brando, Al Pacino, James Caan, Richard...</td>\n",
       "      <td>8.311498</td>\n",
       "      <td>Francis Ford Coppola</td>\n",
       "    </tr>\n",
       "    <tr>\n",
       "      <th>662</th>\n",
       "      <td>[Drama]</td>\n",
       "      <td>550</td>\n",
       "      <td>[support group, dual identity, nihilism, rage ...</td>\n",
       "      <td>1999-10-15</td>\n",
       "      <td>[English]</td>\n",
       "      <td>Fight Club</td>\n",
       "      <td>[Edward Norton, Brad Pitt, Meat Loaf, Jared Le...</td>\n",
       "      <td>8.246223</td>\n",
       "      <td></td>\n",
       "    </tr>\n",
       "    <tr>\n",
       "      <th>3232</th>\n",
       "      <td>[Thriller, Crime]</td>\n",
       "      <td>680</td>\n",
       "      <td>[transporter, brothel, drug dealer, boxer, mas...</td>\n",
       "      <td>1994-10-08</td>\n",
       "      <td>[English, Español, Français]</td>\n",
       "      <td>Pulp Fiction</td>\n",
       "      <td>[John Travolta, Samuel L. Jackson, Uma Thurman...</td>\n",
       "      <td>8.240109</td>\n",
       "      <td>Quentin Tarantino</td>\n",
       "    </tr>\n",
       "    <tr>\n",
       "      <th>1818</th>\n",
       "      <td>[Drama, History, War]</td>\n",
       "      <td>424</td>\n",
       "      <td>[factory, concentration camp, hero, holocaust,...</td>\n",
       "      <td>1993-11-29</td>\n",
       "      <td>[Deutsch, Polski, עִבְרִית, English]</td>\n",
       "      <td>Schindler's List</td>\n",
       "      <td>[Liam Neeson, Ben Kingsley, Ralph Fiennes, Car...</td>\n",
       "      <td>8.186319</td>\n",
       "      <td></td>\n",
       "    </tr>\n",
       "  </tbody>\n",
       "</table>\n",
       "</div>"
      ],
      "text/plain": [
       "                     genres   id  \\\n",
       "1881         [Drama, Crime]  278   \n",
       "3337         [Drama, Crime]  238   \n",
       "662                 [Drama]  550   \n",
       "3232      [Thriller, Crime]  680   \n",
       "1818  [Drama, History, War]  424   \n",
       "\n",
       "                                               keywords release_date  \\\n",
       "1881  [prison, corruption, police brutality, prison ...   1994-09-23   \n",
       "3337  [italy, love at first sight, loss of father, p...   1972-03-14   \n",
       "662   [support group, dual identity, nihilism, rage ...   1999-10-15   \n",
       "3232  [transporter, brothel, drug dealer, boxer, mas...   1994-10-08   \n",
       "1818  [factory, concentration camp, hero, holocaust,...   1993-11-29   \n",
       "\n",
       "                          spoken_languages                     title  \\\n",
       "1881                             [English]  The Shawshank Redemption   \n",
       "3337            [English, Italiano, Latin]             The Godfather   \n",
       "662                              [English]                Fight Club   \n",
       "3232          [English, Español, Français]              Pulp Fiction   \n",
       "1818  [Deutsch, Polski, עִבְרִית, English]          Schindler's List   \n",
       "\n",
       "                                                   cast     score  \\\n",
       "1881  [Tim Robbins, Morgan Freeman, Bob Gunton, Clan...  8.432957   \n",
       "3337  [Marlon Brando, Al Pacino, James Caan, Richard...  8.311498   \n",
       "662   [Edward Norton, Brad Pitt, Meat Loaf, Jared Le...  8.246223   \n",
       "3232  [John Travolta, Samuel L. Jackson, Uma Thurman...  8.240109   \n",
       "1818  [Liam Neeson, Ben Kingsley, Ralph Fiennes, Car...  8.186319   \n",
       "\n",
       "                  director  \n",
       "1881                        \n",
       "3337  Francis Ford Coppola  \n",
       "662                         \n",
       "3232     Quentin Tarantino  \n",
       "1818                        "
      ]
     },
     "execution_count": 19,
     "metadata": {},
     "output_type": "execute_result"
    }
   ],
   "source": [
    "movies_list=movies_list.drop(columns=['overview','popularity','vote_average','vote_count','crew'])\n",
    "movies_list.head(5)"
   ]
  },
  {
   "cell_type": "markdown",
   "id": "0c44d6ea",
   "metadata": {},
   "source": [
    "# Clean strings"
   ]
  },
  {
   "cell_type": "code",
   "execution_count": 20,
   "id": "ffa51006",
   "metadata": {},
   "outputs": [
    {
     "data": {
      "text/html": [
       "<div>\n",
       "<style scoped>\n",
       "    .dataframe tbody tr th:only-of-type {\n",
       "        vertical-align: middle;\n",
       "    }\n",
       "\n",
       "    .dataframe tbody tr th {\n",
       "        vertical-align: top;\n",
       "    }\n",
       "\n",
       "    .dataframe thead th {\n",
       "        text-align: right;\n",
       "    }\n",
       "</style>\n",
       "<table border=\"1\" class=\"dataframe\">\n",
       "  <thead>\n",
       "    <tr style=\"text-align: right;\">\n",
       "      <th></th>\n",
       "      <th>genres</th>\n",
       "      <th>id</th>\n",
       "      <th>keywords</th>\n",
       "      <th>release_date</th>\n",
       "      <th>spoken_languages</th>\n",
       "      <th>title</th>\n",
       "      <th>cast</th>\n",
       "      <th>score</th>\n",
       "      <th>director</th>\n",
       "    </tr>\n",
       "  </thead>\n",
       "  <tbody>\n",
       "    <tr>\n",
       "      <th>1881</th>\n",
       "      <td>[drama, crime]</td>\n",
       "      <td>278</td>\n",
       "      <td>[prison, corruption, policebrutality, prisonce...</td>\n",
       "      <td>1994-09-23</td>\n",
       "      <td>[english]</td>\n",
       "      <td>The Shawshank Redemption</td>\n",
       "      <td>[timrobbins, morganfreeman, bobgunton, clancyb...</td>\n",
       "      <td>8.432957</td>\n",
       "      <td></td>\n",
       "    </tr>\n",
       "  </tbody>\n",
       "</table>\n",
       "</div>"
      ],
      "text/plain": [
       "              genres   id                                           keywords  \\\n",
       "1881  [drama, crime]  278  [prison, corruption, policebrutality, prisonce...   \n",
       "\n",
       "     release_date spoken_languages                     title  \\\n",
       "1881   1994-09-23        [english]  The Shawshank Redemption   \n",
       "\n",
       "                                                   cast     score director  \n",
       "1881  [timrobbins, morganfreeman, bobgunton, clancyb...  8.432957           "
      ]
     },
     "execution_count": 20,
     "metadata": {},
     "output_type": "execute_result"
    }
   ],
   "source": [
    "def clean(x):\n",
    "    if isinstance(x,list):\n",
    "        return [str.lower(i.replace(\" \",\"\")) for i in x]\n",
    "    \n",
    "features=['genres','keywords','spoken_languages','cast']\n",
    "for feature in features:\n",
    "    movies_list[feature]=movies_list[feature].apply(clean)\n",
    "movies_list.head(1)"
   ]
  },
  {
   "cell_type": "markdown",
   "id": "0ebae0d8",
   "metadata": {},
   "source": [
    "# Combine features"
   ]
  },
  {
   "cell_type": "code",
   "execution_count": 23,
   "id": "0c7f6fc4",
   "metadata": {},
   "outputs": [
    {
     "data": {
      "text/plain": [
       "1881    drama crime prison corruption policebrutality ...\n",
       "3337    drama crime italy loveatfirstsight lossoffathe...\n",
       "662     drama supportgroup dualidentity nihilism ragea...\n",
       "3232    thriller crime transporter brothel drugdealer ...\n",
       "1818    drama history war factory concentrationcamp he...\n",
       "Name: combined, dtype: object"
      ]
     },
     "execution_count": 23,
     "metadata": {},
     "output_type": "execute_result"
    }
   ],
   "source": [
    "def combine(row):\n",
    "    return ' '.join(row['genres']) + ' ' +' '.join(row['keywords']) + ' ' +' '.join(row['spoken_languages']) + ' ' +' '.join(row['cast'])+' '+row['director']\n",
    "movies_list['combined']=movies_list.apply(combine,axis=1)\n",
    "movies_list['combined'].head(5)"
   ]
  },
  {
   "cell_type": "markdown",
   "id": "0726bd68",
   "metadata": {},
   "source": [
    "# Counter vector & similarity"
   ]
  },
  {
   "cell_type": "code",
   "execution_count": 33,
   "id": "1c8d2f15",
   "metadata": {},
   "outputs": [],
   "source": [
    "count = CountVectorizer(stop_words='english')\n",
    "count_mat=count.fit_transform(movies_list['combined'])\n",
    "\n",
    "cosine_sim=cosine_similarity(count_mat,count_mat)\n",
    "## reset indices\n",
    "movies_list=movies_list.reset_index()\n",
    "indices=pd.Series(movies_list.index,index=movies_list['title'])\n"
   ]
  },
  {
   "cell_type": "markdown",
   "id": "01ed42f5",
   "metadata": {},
   "source": [
    "# get recommendations"
   ]
  },
  {
   "cell_type": "code",
   "execution_count": 42,
   "id": "0b512ffd",
   "metadata": {},
   "outputs": [],
   "source": [
    "def get_rec(title,cosine_sim=cosine_sim):\n",
    "    if title in movies_list.values :\n",
    "        idx=indices[title]\n",
    "        sim_score=list(enumerate(cosine_sim[idx]))\n",
    "        sim_score=sorted(sim_score,key=lambda x:x[1],reverse =True)\n",
    "        sim_score=sim_score[1:11]\n",
    "        movies_indices=[i[0] for i in sim_score]\n",
    "        return movies_list.iloc[movies_indices]\n",
    "    return []"
   ]
  },
  {
   "cell_type": "code",
   "execution_count": 45,
   "id": "7ce6f2c0",
   "metadata": {
    "scrolled": false
   },
   "outputs": [
    {
     "data": {
      "text/plain": [
       "738       45\n",
       "19      1553\n",
       "212      946\n",
       "2084     224\n",
       "288      421\n",
       "954     1891\n",
       "688     1512\n",
       "880     3068\n",
       "15      3057\n",
       "355     3380\n",
       "Name: index, dtype: int64"
      ]
     },
     "execution_count": 45,
     "metadata": {},
     "output_type": "execute_result"
    }
   ],
   "source": [
    "get_rec('Fight Club')['index']"
   ]
  },
  {
   "cell_type": "markdown",
   "id": "ef4ba522",
   "metadata": {},
   "source": [
    "# Export the model\n"
   ]
  },
  {
   "cell_type": "code",
   "execution_count": null,
   "id": "370a5d01",
   "metadata": {},
   "outputs": [],
   "source": [
    "import pickle\n"
   ]
  }
 ],
 "metadata": {
  "kernelspec": {
   "display_name": "Python 3 (ipykernel)",
   "language": "python",
   "name": "python3"
  },
  "language_info": {
   "codemirror_mode": {
    "name": "ipython",
    "version": 3
   },
   "file_extension": ".py",
   "mimetype": "text/x-python",
   "name": "python",
   "nbconvert_exporter": "python",
   "pygments_lexer": "ipython3",
   "version": "3.9.13"
  }
 },
 "nbformat": 4,
 "nbformat_minor": 5
}
